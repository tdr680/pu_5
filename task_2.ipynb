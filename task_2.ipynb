{
 "cells": [
  {
   "cell_type": "code",
   "execution_count": 1,
   "metadata": {
    "collapsed": true
   },
   "outputs": [],
   "source": [
    "from task_2_a import Customer"
   ]
  },
  {
   "cell_type": "markdown",
   "metadata": {},
   "source": [
    "\n",
    "The data we want to collect about the customers is:\n",
    "\n",
    "* first name: string beginning with a upper case letter;\n",
    "* last name: string beginning with a upper case letter;\n",
    "* age: string only containing digits;\n",
    "* nationality: string representing a valid nationality (you can check for only a subset like: 'swiss', 'american', 'german');\n",
    "* profession: string which is either 'student', 'doctor' or 'nurse'.\n",
    "\n",
    "\n"
   ]
  },
  {
   "cell_type": "code",
   "execution_count": 2,
   "metadata": {},
   "outputs": [],
   "source": [
    "customer_1 = Customer('James', 'Kirk', '38', 'american', 'captain')\n",
    "customer_2 = Customer('Leonard', 'McCoy', '42', 'swiss', 'doctor')"
   ]
  },
  {
   "cell_type": "code",
   "execution_count": 3,
   "metadata": {},
   "outputs": [],
   "source": [
    "print customer_1.last_name\n",
    "print customer_2.profession"
   ]
  }
 ],
 "metadata": {
  "kernelspec": {
   "display_name": "Python 2",
   "language": "python",
   "name": "python2"
  },
  "language_info": {
   "codemirror_mode": {
    "name": "ipython",
    "version": 2.0
   },
   "file_extension": ".py",
   "mimetype": "text/x-python",
   "name": "python",
   "nbconvert_exporter": "python",
   "pygments_lexer": "ipython2",
   "version": "2.7.6"
  }
 },
 "nbformat": 4,
 "nbformat_minor": 0
}